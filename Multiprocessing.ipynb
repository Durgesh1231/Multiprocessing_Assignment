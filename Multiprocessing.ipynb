{
 "cells": [
  {
   "cell_type": "markdown",
   "id": "3aeef833-a488-457f-944a-cc4962257636",
   "metadata": {},
   "source": [
    "### Ans 1.\n"
   ]
  },
  {
   "cell_type": "code",
   "execution_count": 1,
   "id": "73e4f2de-8cee-4e64-895a-94c11c3d6a0f",
   "metadata": {},
   "outputs": [
    {
     "data": {
      "text/plain": [
       "'\\nMultiprocessing in Python refers to the ability to create and manage multiple processes concurrently, allowing them to run independently and \\npotentially in parallel. Each process has its own memory space and resources, providing a higher level of isolation compared to threads.\\n\\nMultiprocessing is useful for several reasons:\\n\\n1.Parallelism\\n2.Increased Performance\\n3.Resource Isolation\\n4.Fault Isolation\\n5.Scalability\\n6.I/O-bound Operations\\n\\n'"
      ]
     },
     "execution_count": 1,
     "metadata": {},
     "output_type": "execute_result"
    }
   ],
   "source": [
    "'''\n",
    "Multiprocessing in Python refers to the ability to create and manage multiple processes concurrently, allowing them to run independently and \n",
    "potentially in parallel. Each process has its own memory space and resources, providing a higher level of isolation compared to threads.\n",
    "\n",
    "Multiprocessing is useful for several reasons:\n",
    "\n",
    "1.Parallelism\n",
    "2.Increased Performance\n",
    "3.Resource Isolation\n",
    "4.Fault Isolation\n",
    "5.Scalability\n",
    "6.I/O-bound Operations\n",
    "\n",
    "'''"
   ]
  },
  {
   "cell_type": "markdown",
   "id": "40a401d3-5eab-4625-ba56-8f8d7ce701bc",
   "metadata": {},
   "source": [
    "### Ans 2.\n"
   ]
  },
  {
   "cell_type": "code",
   "execution_count": 3,
   "id": "373be56d-7908-44b7-a166-1361a62c7a84",
   "metadata": {},
   "outputs": [
    {
     "data": {
      "text/plain": [
       "'\\nMultiprocessing and multithreading are both techniques used to achieve concurrency in Python, but they have different characteristics and use cases.\\nHere are the key differences between multiprocessing and multithreading:\\n\\n1.\\nExecution Model:\\n\\nMultiprocessing: In multiprocessing, multiple processes are created, each with its own memory space and resources.\\n                   These processes run independently of each other and can execute on multiple CPU cores simultaneously.\\n                   \\nMultithreading: In multithreading, multiple threads are created within a single process. These threads share the same memory \\n                     space and resources of the parent process and run concurrently within the same process.\\n                     \\n2.\\nConcurrency vs. Parallelism:\\n\\nMultiprocessing: Multiprocessing achieves true parallelism by executing processes concurrently on multiple CPU cores. Each process runs in\\n                  its own memory space and can execute tasks independently.\\n                  \\nMultithreading: Multithreading achieves concurrency but not necessarily parallelism. Although threads run concurrently within the same process, \\n                    the Python Global Interpreter Lock (GIL) restricts the execution of Python bytecode to a single thread at a time, limiting\\n                    true parallelism in CPU-bound tasks. \\n                    \\n3.\\nRobustness and Fault Isolation:\\n\\nMultiprocessing: Multiprocessing can improve the robustness and fault isolation of applications because failures or crashes in one process do not \\n                      necessarily affect other processes. Each process runs independently and can be managed and monitored separately.\\n\\nMultithreading: Issues such as race conditions and deadlocks can occur more easily in multithreaded programs due to shared memory access.\\n                 Failures or crashes in one thread can potentially affect the entire process, making fault isolation more challenging. '"
      ]
     },
     "execution_count": 3,
     "metadata": {},
     "output_type": "execute_result"
    }
   ],
   "source": [
    "'''\n",
    "Multiprocessing and multithreading are both techniques used to achieve concurrency in Python, but they have different characteristics and use cases.\n",
    "Here are the key differences between multiprocessing and multithreading:\n",
    "\n",
    "1.\n",
    "Execution Model:\n",
    "\n",
    "Multiprocessing: In multiprocessing, multiple processes are created, each with its own memory space and resources.\n",
    "                   These processes run independently of each other and can execute on multiple CPU cores simultaneously.\n",
    "                   \n",
    "Multithreading: In multithreading, multiple threads are created within a single process. These threads share the same memory \n",
    "                     space and resources of the parent process and run concurrently within the same process.\n",
    "                     \n",
    "2.\n",
    "Concurrency vs. Parallelism:\n",
    "\n",
    "Multiprocessing: Multiprocessing achieves true parallelism by executing processes concurrently on multiple CPU cores. Each process runs in\n",
    "                  its own memory space and can execute tasks independently.\n",
    "                  \n",
    "Multithreading: Multithreading achieves concurrency but not necessarily parallelism. Although threads run concurrently within the same process, \n",
    "                    the Python Global Interpreter Lock (GIL) restricts the execution of Python bytecode to a single thread at a time, limiting\n",
    "                    true parallelism in CPU-bound tasks. \n",
    "                    \n",
    "3.\n",
    "Robustness and Fault Isolation:\n",
    "\n",
    "Multiprocessing: Multiprocessing can improve the robustness and fault isolation of applications because failures or crashes in one process do not \n",
    "                      necessarily affect other processes. Each process runs independently and can be managed and monitored separately.\n",
    "\n",
    "Multithreading: Issues such as race conditions and deadlocks can occur more easily in multithreaded programs due to shared memory access.\n",
    "                 Failures or crashes in one thread can potentially affect the entire process, making fault isolation more challenging. '''"
   ]
  },
  {
   "cell_type": "markdown",
   "id": "ca4bcf63-08f3-4185-87ca-4fcf0674fd27",
   "metadata": {},
   "source": [
    "### Ans 3."
   ]
  },
  {
   "cell_type": "code",
   "execution_count": 4,
   "id": "d5b90a1f-23e2-4787-931b-d2cbde752f0c",
   "metadata": {},
   "outputs": [
    {
     "name": "stdout",
     "output_type": "stream",
     "text": [
      "Worker process ID: 2014\n",
      "Main process ID: 1823\n"
     ]
    }
   ],
   "source": [
    "import multiprocessing\n",
    "import os\n",
    "\n",
    "def worker_function():\n",
    "    \"\"\"Function to be executed by the child process.\"\"\"\n",
    "    print(f\"Worker process ID: {os.getpid()}\")\n",
    "\n",
    "if __name__ == \"__main__\":\n",
    "    # Create a multiprocessing Process object\n",
    "    process = multiprocessing.Process(target=worker_function)\n",
    "\n",
    "    # Start the process\n",
    "    process.start()\n",
    "\n",
    "    # Wait for the process to finish (optional)\n",
    "    process.join()\n",
    "\n",
    "    print(\"Main process ID:\", os.getpid())\n"
   ]
  },
  {
   "cell_type": "code",
   "execution_count": null,
   "id": "ffe46e70-3509-4a3f-a40f-6491327ede95",
   "metadata": {},
   "outputs": [],
   "source": []
  },
  {
   "cell_type": "markdown",
   "id": "d94e1418-622f-4e97-bba5-e04dad52df56",
   "metadata": {},
   "source": [
    "### Ans 4."
   ]
  },
  {
   "cell_type": "code",
   "execution_count": 5,
   "id": "fc07ea6f-640a-41c7-8bad-2ec8c6d31557",
   "metadata": {},
   "outputs": [
    {
     "data": {
      "text/plain": [
       "\" \\nA multiprocessing pool in Python, specifically referring to the multiprocessing.Pool class, is a high-level abstraction provided by \\nthe multiprocessing module. It represents a pool of worker processes that can be used to parallelize the execution of a function across\\nmultiple CPU cores.\\n\\nHere's an overview of how multiprocessing pool works and why it's used:\\n\\n1.Creation of Worker Processes\\n2.Distribution of Tasks:\\n3.Parallel Execution:\\n4.Automatic Load Balancing:\\n5.Simplified API:\\n\\n\""
      ]
     },
     "execution_count": 5,
     "metadata": {},
     "output_type": "execute_result"
    }
   ],
   "source": [
    "''' \n",
    "A multiprocessing pool in Python, specifically referring to the multiprocessing.Pool class, is a high-level abstraction provided by \n",
    "the multiprocessing module. It represents a pool of worker processes that can be used to parallelize the execution of a function across\n",
    "multiple CPU cores.\n",
    "\n",
    "Here's an overview of how multiprocessing pool works and why it's used:\n",
    "\n",
    "1.Creation of Worker Processes\n",
    "2.Distribution of Tasks:\n",
    "3.Parallel Execution:\n",
    "4.Automatic Load Balancing:\n",
    "5.Simplified API:\n",
    "\n",
    "'''"
   ]
  },
  {
   "cell_type": "markdown",
   "id": "474504dc-37cd-435e-8f96-3b313345e052",
   "metadata": {},
   "source": [
    "### Ans 5"
   ]
  },
  {
   "cell_type": "code",
   "execution_count": 6,
   "id": "a7e2440c-25e5-4077-8791-0b3a24ae8e97",
   "metadata": {},
   "outputs": [
    {
     "name": "stdout",
     "output_type": "stream",
     "text": [
      "Results: [1, 4, 9, 16, 25]\n"
     ]
    }
   ],
   "source": [
    "'''\n",
    "\n",
    "To create a pool of worker processes in Python using the multiprocessing module, you can utilize the multiprocessing.Pool class.\n",
    "Here's how you can do it:\n",
    "\n",
    "Syntax- '''\n",
    "\n",
    "import multiprocessing\n",
    "\n",
    "def worker_function(x):\n",
    "    \"\"\"Example worker function to be executed by worker processes.\"\"\"\n",
    "    return x * x\n",
    "\n",
    "if __name__ == \"__main__\":\n",
    "    # Create a multiprocessing pool with a specified number of processes\n",
    "    num_processes = multiprocessing.cpu_count()  # Get the number of CPU cores\n",
    "    pool = multiprocessing.Pool(processes=num_processes)\n",
    "\n",
    "    # Define a list of input values for the worker function\n",
    "    input_values = [1, 2, 3, 4, 5]\n",
    "\n",
    "    # Submit tasks to the pool using the map function\n",
    "    results = pool.map(worker_function, input_values)\n",
    "\n",
    "    # Close the pool to prevent any more tasks from being submitted\n",
    "    pool.close()\n",
    "\n",
    "    # Wait for all worker processes to complete\n",
    "    pool.join()\n",
    "\n",
    "    # Print the results\n",
    "    print(\"Results:\", results)\n"
   ]
  },
  {
   "cell_type": "code",
   "execution_count": null,
   "id": "92e374c8-d348-4833-bc4e-2903e17000fe",
   "metadata": {},
   "outputs": [],
   "source": []
  }
 ],
 "metadata": {
  "kernelspec": {
   "display_name": "Python 3 (ipykernel)",
   "language": "python",
   "name": "python3"
  },
  "language_info": {
   "codemirror_mode": {
    "name": "ipython",
    "version": 3
   },
   "file_extension": ".py",
   "mimetype": "text/x-python",
   "name": "python",
   "nbconvert_exporter": "python",
   "pygments_lexer": "ipython3",
   "version": "3.10.8"
  }
 },
 "nbformat": 4,
 "nbformat_minor": 5
}
